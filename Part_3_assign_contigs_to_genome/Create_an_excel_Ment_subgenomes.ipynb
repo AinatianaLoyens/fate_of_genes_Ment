{
 "cells": [
  {
   "cell_type": "code",
   "execution_count": 1,
   "id": "f5877233",
   "metadata": {},
   "outputs": [],
   "source": [
    "#First those are the columns we are going to put in the Excel file\n",
    "col1_xlsx=[]\n",
    "col2_xlsx=[]\n",
    "col3_xlsx=[]\n",
    "col4_xlsx=[]\n",
    "col5_xlsx=[]\n",
    "col6_xlsx=[]\n",
    "\n",
    "#Populating the lists\n",
    "l=0 #an indicator of the line we are\n",
    "triplet=[] #this list will contains the 3 contigs of the current triplet\n",
    "file=open('Ment_block_def.tsv','r')\n",
    "for line in file:\n",
    "    columns=line.split()\n",
    "    if columns[0].startswith('ME'):\n",
    "        contigs=columns[0].split('-') #The two contigs are separated by '-'\n",
    "        if contigs[0] not in triplet:\n",
    "            triplet.append(contigs[0])\n",
    "        if contigs[1] not in triplet:\n",
    "            triplet.append(contigs[1])        \n",
    "        col1_xlsx.append(columns[0])\n",
    "        if l%3 == 0:\n",
    "            col2_xlsx.append('NA')\n",
    "            col3_xlsx.append(columns[1])\n",
    "        else: \n",
    "            col2_xlsx.append(columns[1])\n",
    "            col3_xlsx.append('NA')\n",
    "        col4_xlsx.append(columns[2])\n",
    "        contigs_A=[]\n",
    "        if l%3==0 : #That means that we are at the 3rd line.\n",
    "            #print(columns[0])\n",
    "            A=columns[0].split('-') #So the two contigs there are A\n",
    "            contigs_A.append(A[0])\n",
    "            contigs_A.append(A[1])\n",
    "            #We didn't add anything in col5 and col6 at the two previous line so we add 3 element at this line\n",
    "            col5_xlsx.append(A[0])\n",
    "            col5_xlsx.append(A[1])\n",
    "            col5_xlsx.append('NA')\n",
    "            #The contig which is not in contigs_A is the contig B\n",
    "            for c in triplet:\n",
    "                if c not in contigs_A:\n",
    "                    B=c\n",
    "            col6_xlsx.append('NA')\n",
    "            col6_xlsx.append('NA')\n",
    "            col6_xlsx.append(B)\n",
    "    if l%3==0: \n",
    "        triplet=[] #We reboot the triplet every 3 lines        \n",
    "\n",
    "    l+=1"
   ]
  },
  {
   "cell_type": "code",
   "execution_count": 2,
   "id": "089e12a4",
   "metadata": {},
   "outputs": [
    {
     "name": "stdout",
     "output_type": "stream",
     "text": [
      "414\n",
      "414\n",
      "414\n",
      "414\n",
      "414\n",
      "414\n"
     ]
    }
   ],
   "source": [
    "print(len(col1_xlsx))\n",
    "print(len(col2_xlsx))\n",
    "print(len(col3_xlsx))\n",
    "print(len(col4_xlsx))\n",
    "print(len(col5_xlsx))\n",
    "print(len(col6_xlsx))"
   ]
  },
  {
   "cell_type": "code",
   "execution_count": 3,
   "id": "0f77ef48",
   "metadata": {},
   "outputs": [
    {
     "name": "stdout",
     "output_type": "stream",
     "text": [
      "Defaulting to user installation because normal site-packages is not writeable\n",
      "Requirement already satisfied: openpyxl in /home/ainat/.local/lib/python3.8/site-packages (3.1.2)\n",
      "Requirement already satisfied: et-xmlfile in /home/ainat/.local/lib/python3.8/site-packages (from openpyxl) (1.1.0)\n",
      "Note: you may need to restart the kernel to use updated packages.\n"
     ]
    }
   ],
   "source": [
    "pip install openpyxl"
   ]
  },
  {
   "cell_type": "code",
   "execution_count": 4,
   "id": "03274fcf",
   "metadata": {},
   "outputs": [],
   "source": [
    "#Put these lists in an excel file\n",
    "\n",
    "from openpyxl import Workbook\n",
    "\n",
    "wb = Workbook()\n",
    "sheet = wb.active\n",
    "\n",
    "header=['contigs','ks_A_B', 'ks_A_A','BLOCK','contigs_A','contigs_B']\n",
    "sheet.append(header)\n",
    "\n",
    "for i in range(len(col1_xlsx)):\n",
    "    row=[col1_xlsx[i],col2_xlsx[i],col3_xlsx[i],col4_xlsx[i],col5_xlsx[i],col6_xlsx[i],]\n",
    "    sheet.append(row)\n",
    "    \n",
    "wb.save(\"Ment_subgenomes.xlsx\")"
   ]
  },
  {
   "cell_type": "code",
   "execution_count": null,
   "id": "d4cfb7b1",
   "metadata": {},
   "outputs": [],
   "source": []
  }
 ],
 "metadata": {
  "kernelspec": {
   "display_name": "Python 3 (ipykernel)",
   "language": "python",
   "name": "python3"
  },
  "language_info": {
   "codemirror_mode": {
    "name": "ipython",
    "version": 3
   },
   "file_extension": ".py",
   "mimetype": "text/x-python",
   "name": "python",
   "nbconvert_exporter": "python",
   "pygments_lexer": "ipython3",
   "version": "3.8.10"
  }
 },
 "nbformat": 4,
 "nbformat_minor": 5
}
