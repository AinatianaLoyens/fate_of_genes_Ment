{
 "cells": [
  {
   "cell_type": "markdown",
   "id": "1e098a0d",
   "metadata": {},
   "source": [
    "Mente has got 521 contigs according to the file 'Ment_contigs.txt'\n",
    "It's 556 according to PacBio HiFi (on my oral presentation)\n",
    "220 car be assigned to subgenomes (less than the half)\n",
    "\n",
    "The name of the contigs are written as 'ME_e1834_XXX'\n",
    "For each contig, we need to count how many times is it considered as a contig A (5th column) and how many times it is considered as a contig B (6th column). Then, we take a decision about putting it in contigs A or B by each one (A or B) has the higher number."
   ]
  },
  {
   "cell_type": "code",
   "execution_count": 1,
   "id": "76657d32",
   "metadata": {},
   "outputs": [],
   "source": [
    "#Step 1 : creating the list of all contigs\n",
    "ment_contigs_list=[]\n",
    "\n",
    "for i in range(1,557): #556 contigs\n",
    "    contig = 'ME_e1834_' + str(i).zfill(3)\n",
    "    ment_contigs_list.append(contig)"
   ]
  },
  {
   "cell_type": "code",
   "execution_count": 2,
   "id": "97d2d91e",
   "metadata": {},
   "outputs": [
    {
     "data": {
      "text/plain": [
       "556"
      ]
     },
     "execution_count": 2,
     "metadata": {},
     "output_type": "execute_result"
    }
   ],
   "source": [
    "len(ment_contigs_list)"
   ]
  },
  {
   "cell_type": "code",
   "execution_count": 3,
   "id": "afd3df4f",
   "metadata": {},
   "outputs": [],
   "source": [
    "import pandas as pd"
   ]
  },
  {
   "cell_type": "code",
   "execution_count": 4,
   "id": "a24633ba",
   "metadata": {},
   "outputs": [],
   "source": [
    "#Step 2: counting how many times a contig is considered as A or B\n",
    "\n",
    "A_dict={c:0 for c in ment_contigs_list} #A dictionnary which associate each contigs to number of times it's an A\n",
    "B_dict={c:0 for c in ment_contigs_list} #A dictionnary which associate each contigs to number of times it's a B\n",
    "\n",
    "df=pd.read_excel(\"Ment_blocks_subgenomes.xlsx\")\n",
    "\n",
    "for c in ment_contigs_list:\n",
    "    for index, row in df.iterrows():\n",
    "        if c == row[4]: #If the contig is in the 5th column (the column of contig A)\n",
    "            A_dict[c]+=1 #We increase the value of c by 1 in the dictionnary A_dict\n",
    "        elif c == row[5]: #If the contig is in the 6th column (the column of contig B)\n",
    "            B_dict[c]+=1 #We increase the value of c by 1 in the dictionnary A_dict\n",
    "            \n",
    "#print(A_dict)\n",
    "#print(B_dict)\n"
   ]
  },
  {
   "cell_type": "code",
   "execution_count": 5,
   "id": "578876b4",
   "metadata": {},
   "outputs": [],
   "source": [
    "#Step 3: create the 6 lists which will be the columns of 'Ment_contigs_subgenomes.xlsx'\n",
    "\n",
    "#ment_contigs_list is the list of the first column\n",
    "A_values_list=[A_dict[c] for c in ment_contigs_list] #The list of how many times each contig is an A \n",
    "B_values_list=[B_dict[c] for c in ment_contigs_list] #The list of how many times each contig is an B\n",
    "\n",
    "decision=[] #This list will contain 'A' or 'B' depending on the contig is considered more as A or B\n",
    "for i in range(len(A_values_list)):\n",
    "    if A_values_list[i] > B_values_list[i]:\n",
    "        decision.append('A')\n",
    "    elif A_values_list[i] < B_values_list[i]:\n",
    "        decision.append('B')\n",
    "    else:\n",
    "        decision.append('N/D') #For not determined\n",
    "        \n",
    "A_contigs_list=[] #It will be the list of the names of contigs A or 'NA' if the corresponding contig is not an A\n",
    "for i in range(len(decision)):\n",
    "    if decision[i] == 'A':\n",
    "        A_contigs_list.append(ment_contigs_list[i]) #If the contig is an A, we add it to the list of A\n",
    "    else:\n",
    "        A_contigs_list.append('NA')\n",
    "        \n",
    "B_contigs_list=[] #It will be the list of the names of contigs B or 'NA' if the corresponding contig is not an B\n",
    "for i in range(len(decision)):\n",
    "    if decision[i] == 'B':\n",
    "        B_contigs_list.append(ment_contigs_list[i]) #If the contig is an B, we add it to the list of B\n",
    "    else:\n",
    "        B_contigs_list.append('NA')\n",
    "    "
   ]
  },
  {
   "cell_type": "code",
   "execution_count": 6,
   "id": "e5d6c6f9",
   "metadata": {},
   "outputs": [
    {
     "name": "stdout",
     "output_type": "stream",
     "text": [
      "556\n",
      "556\n",
      "556\n",
      "556\n",
      "556\n",
      "556\n"
     ]
    }
   ],
   "source": [
    "print(len(ment_contigs_list))\n",
    "print(len(A_values_list))\n",
    "print(len(B_values_list))\n",
    "print(len(decision))\n",
    "print(len(A_contigs_list))\n",
    "print(len(B_contigs_list))\n",
    "#They all have the same length, it's a good thing"
   ]
  },
  {
   "cell_type": "code",
   "execution_count": 7,
   "id": "7a32585d",
   "metadata": {},
   "outputs": [],
   "source": [
    "#Step 4: create the Excel file 'Ment_contigs_subgenomes.xlsx'\n",
    "\n",
    "from openpyxl import Workbook\n",
    "\n",
    "wb = Workbook()\n",
    "sheet = wb.active\n",
    "header=['contig_name','how many times A','how many times B','decision','contigs_A','contigs_B']\n",
    "sheet.append(header)\n",
    "\n",
    "for i in range(len(ment_contigs_list)):\n",
    "    row=[ment_contigs_list[i],A_values_list[i],B_values_list[i],decision[i],A_contigs_list[i],B_contigs_list[i]]\n",
    "    sheet.append(row)\n",
    "    \n",
    "wb.save(\"Ment_contigs_subgenomes.xlsx\")"
   ]
  },
  {
   "cell_type": "code",
   "execution_count": null,
   "id": "6a650246",
   "metadata": {},
   "outputs": [],
   "source": []
  }
 ],
 "metadata": {
  "kernelspec": {
   "display_name": "Python 3 (ipykernel)",
   "language": "python",
   "name": "python3"
  },
  "language_info": {
   "codemirror_mode": {
    "name": "ipython",
    "version": 3
   },
   "file_extension": ".py",
   "mimetype": "text/x-python",
   "name": "python",
   "nbconvert_exporter": "python",
   "pygments_lexer": "ipython3",
   "version": "3.8.10"
  }
 },
 "nbformat": 4,
 "nbformat_minor": 5
}
