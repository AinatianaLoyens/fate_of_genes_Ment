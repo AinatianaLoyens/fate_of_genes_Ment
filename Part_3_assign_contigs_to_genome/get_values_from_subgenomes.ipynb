{
 "cells": [
  {
   "cell_type": "markdown",
   "id": "6d1eb320",
   "metadata": {},
   "source": [
    "Not mandatory but may be useful :\n",
    "\n",
    "Creating a txt file (or two) where one columns is all the contigs A and one column is all the contigs A\n",
    "\n",
    "Name of the file : 'contigs_A_and_B.txt'\n",
    "\n",
    "We just take the contigs in the 4th and 5th column of Ment_contigs_subgenomes without the NA.\n",
    "\n",
    "We could create contigs_A.txt and contigs_B.txt and split them\n",
    "\n",
    "Use the previous Jupyter Notebook to help"
   ]
  },
  {
   "cell_type": "code",
   "execution_count": 1,
   "id": "378ccfd8",
   "metadata": {},
   "outputs": [
    {
     "name": "stdout",
     "output_type": "stream",
     "text": [
      "Defaulting to user installation because normal site-packages is not writeable\n",
      "Requirement already satisfied: pandas in /home/ainat/.local/lib/python3.8/site-packages (2.0.3)\n",
      "Requirement already satisfied: python-dateutil>=2.8.2 in /home/ainat/.local/lib/python3.8/site-packages (from pandas) (2.9.0.post0)\n",
      "Requirement already satisfied: pytz>=2020.1 in /home/ainat/.local/lib/python3.8/site-packages (from pandas) (2024.1)\n",
      "Requirement already satisfied: tzdata>=2022.1 in /home/ainat/.local/lib/python3.8/site-packages (from pandas) (2024.1)\n",
      "Requirement already satisfied: numpy>=1.20.3 in /home/ainat/.local/lib/python3.8/site-packages (from pandas) (1.24.4)\n",
      "Requirement already satisfied: six>=1.5 in /usr/lib/python3/dist-packages (from python-dateutil>=2.8.2->pandas) (1.14.0)\n"
     ]
    }
   ],
   "source": [
    "!pip install pandas"
   ]
  },
  {
   "cell_type": "code",
   "execution_count": 2,
   "id": "ba954ec6",
   "metadata": {},
   "outputs": [
    {
     "name": "stdout",
     "output_type": "stream",
     "text": [
      "Defaulting to user installation because normal site-packages is not writeable\n",
      "Requirement already satisfied: openpyxl in /home/ainat/.local/lib/python3.8/site-packages (3.1.2)\n",
      "Requirement already satisfied: et-xmlfile in /home/ainat/.local/lib/python3.8/site-packages (from openpyxl) (1.1.0)\n"
     ]
    }
   ],
   "source": [
    "!pip install openpyxl"
   ]
  },
  {
   "cell_type": "code",
   "execution_count": 3,
   "id": "d1d6645c",
   "metadata": {},
   "outputs": [],
   "source": [
    "import pandas as pd\n",
    "from openpyxl import Workbook"
   ]
  },
  {
   "cell_type": "code",
   "execution_count": 4,
   "id": "b8d089e3",
   "metadata": {},
   "outputs": [
    {
     "name": "stdout",
     "output_type": "stream",
     "text": [
      "192\n"
     ]
    }
   ],
   "source": [
    "#Step 1: counting the number of assigned contigs\n",
    "\n",
    "df=pd.read_excel('Ment_contigs_subgenomes.xlsx')\n",
    "\n",
    "assigned_contigs=0\n",
    "for index, row in df.iterrows():\n",
    "    if row[3] == 'A' or row[3] == 'B': #The decision is the 4th column. The contig is assigned if it's A or B\n",
    "        assigned_contigs+=1\n",
    "        \n",
    "print(assigned_contigs)\n",
    "#Reminder we've got 556 contigs"
   ]
  },
  {
   "cell_type": "markdown",
   "id": "0a18fa7e",
   "metadata": {},
   "source": [
    "We've got 192 contigs assigned.\n",
    "220 contigs are in a block.\n",
    "We've got a total of 556 contigs (source : PacBio)\n",
    "\n",
    "33.81% of contigs are assigned.\n"
   ]
  },
  {
   "cell_type": "code",
   "execution_count": 5,
   "id": "b359c49a",
   "metadata": {},
   "outputs": [
    {
     "name": "stdout",
     "output_type": "stream",
     "text": [
      "143\n",
      "49\n"
     ]
    },
    {
     "data": {
      "text/plain": [
       "True"
      ]
     },
     "execution_count": 5,
     "metadata": {},
     "output_type": "execute_result"
    }
   ],
   "source": [
    "#Step 2: counting the number of A and the number of B\n",
    "#Verify if there are twice more A than B\n",
    "\n",
    "df=pd.read_excel('Ment_contigs_subgenomes.xlsx')\n",
    "\n",
    "contigs_A=0\n",
    "contigs_B=0\n",
    "for index, row in df.iterrows():\n",
    "    if row[3] == 'A':\n",
    "        contigs_A+=1\n",
    "    elif row[3] == 'B':\n",
    "        contigs_B+=1\n",
    "\n",
    "\n",
    "print(contigs_A)\n",
    "print(contigs_B)\n",
    "contigs_A + contigs_B == assigned_contigs"
   ]
  },
  {
   "cell_type": "markdown",
   "id": "741b2b5e",
   "metadata": {},
   "source": [
    "We've got 143 contigs A and 49 contigs B. We've got more than 3x the numbers of contigs A than B.\n",
    "\n",
    "It's not what we wanted because we wanted only 2x"
   ]
  },
  {
   "cell_type": "code",
   "execution_count": 7,
   "id": "86078059",
   "metadata": {},
   "outputs": [],
   "source": [
    "#Step 3: we need to calculate the size of the contigs\n",
    "\n",
    "#Step 3.1: get a dictionnary {contig:size}\n",
    "\n",
    "file = open('contigs_length.txt', 'r')\n",
    "lines = file.readlines()\n",
    "file.close()\n",
    "\n",
    "dic_contig_size={}\n",
    "for i in range(0, len(lines), 2): #Only every two lines\n",
    "    contig=lines[i].strip('>\\n') #It supress the '>' and the '\\n' of the line of contig\n",
    "    size=lines[i + 1].strip()\n",
    "    dic_contig_size[contig]=size\n",
    "    \n",
    "#print(dic_contig_size)"
   ]
  },
  {
   "cell_type": "code",
   "execution_count": 8,
   "id": "af998195",
   "metadata": {},
   "outputs": [
    {
     "name": "stdout",
     "output_type": "stream",
     "text": [
      "143\n",
      "49\n"
     ]
    }
   ],
   "source": [
    "#Step 3.2: create the lists of contigs A and contigs B\n",
    "\n",
    "contigs_list_A=[]\n",
    "contigs_list_B=[]\n",
    "\n",
    "df=pd.read_excel('Ment_contigs_subgenomes.xlsx')\n",
    "\n",
    "for index, row in df.iterrows():\n",
    "    #print(row[4])\n",
    "    if row[3] == 'A' : #If the contig is an A\n",
    "        contigs_list_A.append(row[4]) #This contig is added to the list of contig A\n",
    "    elif row[3] == 'B' : #If the contig is a B\n",
    "        contigs_list_B.append(row[5]) #This contig is added to the list of contig B\n",
    "        \n",
    "print(len(contigs_list_A)) #Excpected 143\n",
    "print(len(contigs_list_B)) #Excpected 49\n",
    "#print(contigs_list_A)"
   ]
  },
  {
   "cell_type": "code",
   "execution_count": 9,
   "id": "e37fa69a",
   "metadata": {},
   "outputs": [
    {
     "name": "stdout",
     "output_type": "stream",
     "text": [
      "size_A= 167341198\n",
      "size_B= 55472704\n"
     ]
    }
   ],
   "source": [
    "#Step 3.3 : calculate the size of the subgenomes A and B \n",
    "#by doing the sum of the size of all contigs A and the sum of the size of all contigs B\n",
    "\n",
    "size_A=0\n",
    "size_B=0\n",
    "for c in dic_contig_size:\n",
    "    if c in contigs_list_A:\n",
    "        size_A+=int(dic_contig_size[c])\n",
    "    elif c in contigs_list_B:\n",
    "        size_B+=int(dic_contig_size[c])\n",
    "        \n",
    "print('size_A=',size_A)\n",
    "print('size_B=',size_B)"
   ]
  },
  {
   "cell_type": "code",
   "execution_count": 10,
   "id": "aa954c25",
   "metadata": {},
   "outputs": [
    {
     "data": {
      "text/plain": [
       "3.016640364241123"
      ]
     },
     "execution_count": 10,
     "metadata": {},
     "output_type": "execute_result"
    }
   ],
   "source": [
    "size_A/size_B #Expected: arround 2"
   ]
  },
  {
   "cell_type": "code",
   "execution_count": 11,
   "id": "e50516a0",
   "metadata": {},
   "outputs": [
    {
     "data": {
      "text/plain": [
       "2.9183673469387754"
      ]
     },
     "execution_count": 11,
     "metadata": {},
     "output_type": "execute_result"
    }
   ],
   "source": [
    "143/49"
   ]
  },
  {
   "cell_type": "code",
   "execution_count": 12,
   "id": "6a34f669",
   "metadata": {},
   "outputs": [],
   "source": [
    "#Supplemental task : create 3 files: contigs_A_ment.txt, contigs_B_ment.txt, contigs_A_and_B_ment.txt\n",
    "df=pd.read_excel('Ment_contigs_subgenomes.xlsx')\n",
    "\n",
    "#Creating file_A\n",
    "file_A=open('contigs_A_ment.txt','w')\n",
    "for index, row in df.iterrows():\n",
    "    if row[3] == 'A' :\n",
    "        file_A.write(row[4] + '\\n')\n",
    "file_A.close()\n",
    "        \n",
    "#Creating file_B\n",
    "file_B=open('contigs_B_ment.txt','w')\n",
    "for index, row in df.iterrows():\n",
    "    if row[3] == 'B' :\n",
    "        #print('On a un B')\n",
    "        file_B.write(row[5] + '\\n')\n",
    "file_B.close()"
   ]
  },
  {
   "cell_type": "code",
   "execution_count": null,
   "id": "d5b3b4bb",
   "metadata": {},
   "outputs": [],
   "source": [
    "#paste the two files :\n",
    "#do the following command lines in a terminal:\n",
    "\n",
    "#paste contigs_A_ment.txt contigs_B_ment.txt > contigs_A_and_B_ment.txt\n",
    "#echo -e \"contigs_A\\tcontigs_B\" | cat - contigs_A_and_B_ment.txt > temp && mv temp contigs_A_and_B_ment.txt"
   ]
  }
 ],
 "metadata": {
  "kernelspec": {
   "display_name": "Python 3 (ipykernel)",
   "language": "python",
   "name": "python3"
  },
  "language_info": {
   "codemirror_mode": {
    "name": "ipython",
    "version": 3
   },
   "file_extension": ".py",
   "mimetype": "text/x-python",
   "name": "python",
   "nbconvert_exporter": "python",
   "pygments_lexer": "ipython3",
   "version": "3.8.10"
  }
 },
 "nbformat": 4,
 "nbformat_minor": 5
}
