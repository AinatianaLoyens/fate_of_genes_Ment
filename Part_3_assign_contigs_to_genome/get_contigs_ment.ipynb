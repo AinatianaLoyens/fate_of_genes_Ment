{
 "cells": [
  {
   "cell_type": "code",
   "execution_count": 11,
   "id": "3dbf2780",
   "metadata": {},
   "outputs": [
    {
     "data": {
      "text/plain": [
       "207"
      ]
     },
     "execution_count": 11,
     "metadata": {},
     "output_type": "execute_result"
    }
   ],
   "source": [
    "#Create a list with the name of the contigs to assign to genomes\n",
    "contig_list = []\n",
    "file=open('Ment_block_def.tsv','r')\n",
    "for line in file:\n",
    "    columns=line.split()\n",
    "    if columns[0].startswith('ME'): #Because there is the first line which doesn't begin with ME\n",
    "        contigs=columns[0].split('-') #The two contigs are separated by '-'\n",
    "        if contigs[0] not in contig_list:\n",
    "            contig_list.append(contigs[0])\n",
    "        if contigs[1] not in contig_list:\n",
    "            contig_list.append(contigs[1])\n",
    "file.close()\n",
    "#Know how many contigs have we got\n",
    "len(contig_list)       "
   ]
  },
  {
   "cell_type": "code",
   "execution_count": 15,
   "id": "ad59e641",
   "metadata": {},
   "outputs": [],
   "source": [
    "contig_list.sort()"
   ]
  },
  {
   "cell_type": "code",
   "execution_count": 16,
   "id": "f97bff15",
   "metadata": {},
   "outputs": [],
   "source": [
    "file=open('Ment_contigs.txt','w')\n",
    "for c in contig_list:\n",
    "    file.write(c + '\\n') \n",
    "file.close()"
   ]
  },
  {
   "cell_type": "code",
   "execution_count": null,
   "id": "30cb393e",
   "metadata": {},
   "outputs": [],
   "source": []
  }
 ],
 "metadata": {
  "kernelspec": {
   "display_name": "Python 3 (ipykernel)",
   "language": "python",
   "name": "python3"
  },
  "language_info": {
   "codemirror_mode": {
    "name": "ipython",
    "version": 3
   },
   "file_extension": ".py",
   "mimetype": "text/x-python",
   "name": "python",
   "nbconvert_exporter": "python",
   "pygments_lexer": "ipython3",
   "version": "3.8.10"
  }
 },
 "nbformat": 4,
 "nbformat_minor": 5
}
